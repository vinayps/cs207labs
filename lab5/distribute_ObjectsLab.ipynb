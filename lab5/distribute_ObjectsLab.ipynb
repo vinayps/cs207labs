{
 "cells": [
  {
   "cell_type": "markdown",
   "metadata": {},
   "source": [
    "# The Objects Lab"
   ]
  },
  {
   "cell_type": "markdown",
   "metadata": {},
   "source": [
    "###   `__repr__`  vs  `__str__`\n",
    "\n",
    "The way printing works is that Python wants classes to implement a `__repr__` and a `__str__` method. It will use inheritance to give the built-in `object`'s methods when these are not defined...but any class can define these. When an *instance* of such a class is interrogated with the `repr` or `str` function, then these underlying methods are called.\n",
    "\n",
    "Rules used (see http://stackoverflow.com/questions/1436703/difference-between-str-and-repr-in-python):\n",
    "\n",
    "- if you override `__repr__`, that's ALSO used for `__str__`, but not vice versa\n",
    "- `__str__` on a built-on container uses the contained objects `__repr__`\n",
    "\n",
    "Some advice on thisI found useful:\n",
    "\n",
    "- From Alex Martelli: \n",
    ">So, my advice: focus on making __str__ reasonably human-readable, and __repr__ as unambiguous as you possibly can.\n",
    "\n",
    "From SO:\n",
    ">This means, in simple terms: almost every object you implement should have a functional __repr__ that’s usable for understanding the object. Implementing __str__ is optional: do that if you need a “pretty print” functionality\n",
    "\n",
    "Usually people will have the repr print out a constructor form. Ned Batchelder:\n",
    ">My rule of thumb:  __repr__ is for developers, __str__ is for customers.\n",
    "\n"
   ]
  },
  {
   "cell_type": "markdown",
   "metadata": {},
   "source": [
    "### 1. `__str__`\n",
    "\n",
    "Implement `__str__` for `class Animal` below to simply print \"Animal Jane\" for an Animal with name Jane. Keep your code as general as possible."
   ]
  },
  {
   "cell_type": "code",
   "execution_count": 1,
   "metadata": {
    "collapsed": true
   },
   "outputs": [],
   "source": [
    "class Animal():\n",
    "    \n",
    "    def __init__(self, name):\n",
    "        self.name=name\n",
    "\n",
    "    def __repr__(self):\n",
    "        class_name = type(self).__name__\n",
    "        return \"%s(name=%r)\" % (class_name, self.name)\n",
    "    \n",
    "    #your code here\n",
    "    def __str__(self):\n",
    "        class_name = type(self).__name__\n",
    "        return \"Animal %s\" % self.name\n"
   ]
  },
  {
   "cell_type": "code",
   "execution_count": 2,
   "metadata": {
    "collapsed": true
   },
   "outputs": [],
   "source": [
    "A=Animal(\"Tom\")\n",
    "B=Animal(\"Jane\")"
   ]
  },
  {
   "cell_type": "code",
   "execution_count": 3,
   "metadata": {
    "collapsed": false
   },
   "outputs": [
    {
     "data": {
      "text/plain": [
       "Animal(name='Jane')"
      ]
     },
     "execution_count": 3,
     "metadata": {},
     "output_type": "execute_result"
    }
   ],
   "source": [
    "B#the ipython REPL uses __repr__ even if __str__ is defined"
   ]
  },
  {
   "cell_type": "code",
   "execution_count": 4,
   "metadata": {
    "collapsed": false
   },
   "outputs": [
    {
     "name": "stdout",
     "output_type": "stream",
     "text": [
      "Animal Jane\n"
     ]
    }
   ],
   "source": [
    "print(B)#printing uses __str__"
   ]
  },
  {
   "cell_type": "code",
   "execution_count": 5,
   "metadata": {
    "collapsed": false
   },
   "outputs": [
    {
     "name": "stdout",
     "output_type": "stream",
     "text": [
      "Animal Jane\n",
      "Animal(name='Jane')\n"
     ]
    }
   ],
   "source": [
    "print(str(B)) # uses __str__\n",
    "print(repr(B)) # uses __repr__"
   ]
  },
  {
   "cell_type": "markdown",
   "metadata": {},
   "source": [
    "Notice that printing things in a list uses the item's `__repr__`:"
   ]
  },
  {
   "cell_type": "code",
   "execution_count": 6,
   "metadata": {
    "collapsed": false
   },
   "outputs": [
    {
     "name": "stdout",
     "output_type": "stream",
     "text": [
      "[Animal(name='Tom'), Animal(name='Jane')]\n"
     ]
    }
   ],
   "source": [
    "print([A, B])"
   ]
  },
  {
   "cell_type": "code",
   "execution_count": 7,
   "metadata": {
    "collapsed": true
   },
   "outputs": [],
   "source": [
    "import reprlib #reprlib.repr provides small size representations of object strings"
   ]
  },
  {
   "cell_type": "code",
   "execution_count": 8,
   "metadata": {
    "collapsed": false
   },
   "outputs": [
    {
     "data": {
      "text/plain": [
       "\"[Animal(name='Tom'), Animal(name='Tom'), Animal(name='Tom'), Animal(name='Tom'), Animal(name='Tom'), Animal(name='Tom'), ...]\""
      ]
     },
     "execution_count": 8,
     "metadata": {},
     "output_type": "execute_result"
    }
   ],
   "source": [
    "reprlib.repr([A]*50)"
   ]
  },
  {
   "cell_type": "markdown",
   "metadata": {},
   "source": [
    "### Properties, Descriptors, and Setters\n",
    "\n",
    "Our earlier `ComplexClass` gave direct access to both the `real` and `imaginary` parts of the complex number. But lets say we wanted to build a strange complex number which did not allow you to change the imaginary part of a complex number. We then use properties to \"encapsulate\" the actual values of the complex number. There is a `@property` decorator that does this for us. Its actually instantiates a class for us which is something called a `descriptor`, but that too is a story for later. Currently we just treat it as a black box."
   ]
  },
  {
   "cell_type": "code",
   "execution_count": 9,
   "metadata": {
    "collapsed": true
   },
   "outputs": [],
   "source": [
    "class ComplexClass():\n",
    "    \n",
    "    def __init__(self, a, b):\n",
    "        self.__real = a\n",
    "        self.__imaginary = b\n",
    "    \n",
    "    def __repr__(self):\n",
    "        class_name = type(self).__name__\n",
    "        return \"%s(real=%r, imaginary=%r)\" % (class_name, self.__real, self.__imaginary)\n",
    "        \n",
    "    @property\n",
    "    def real(self):\n",
    "        return self.__real\n",
    "    \n",
    "    @real.setter\n",
    "    def real(self, value=None):\n",
    "        if value:\n",
    "            self.__real=value\n",
    "            \n",
    "    @property\n",
    "    def imaginary(self):\n",
    "        return self.__imaginary\n",
    "    "
   ]
  },
  {
   "cell_type": "code",
   "execution_count": 10,
   "metadata": {
    "collapsed": false
   },
   "outputs": [
    {
     "data": {
      "text/plain": [
       "(1, 2)"
      ]
     },
     "execution_count": 10,
     "metadata": {},
     "output_type": "execute_result"
    }
   ],
   "source": [
    "c1 = ComplexClass(1,2)\n",
    "c1.real, c1.imaginary"
   ]
  },
  {
   "cell_type": "markdown",
   "metadata": {},
   "source": [
    "Notice that I can change the value of the real part and make it read-only"
   ]
  },
  {
   "cell_type": "code",
   "execution_count": 11,
   "metadata": {
    "collapsed": true
   },
   "outputs": [],
   "source": [
    "c1.real = 5"
   ]
  },
  {
   "cell_type": "markdown",
   "metadata": {},
   "source": [
    "But I cannot change the value of the imaginary part"
   ]
  },
  {
   "cell_type": "code",
   "execution_count": 12,
   "metadata": {
    "collapsed": false
   },
   "outputs": [
    {
     "ename": "AttributeError",
     "evalue": "can't set attribute",
     "output_type": "error",
     "traceback": [
      "\u001b[0;31m---------------------------------------------------------------------------\u001b[0m",
      "\u001b[0;31mAttributeError\u001b[0m                            Traceback (most recent call last)",
      "\u001b[0;32m<ipython-input-12-57b57c76fb71>\u001b[0m in \u001b[0;36m<module>\u001b[0;34m()\u001b[0m\n\u001b[0;32m----> 1\u001b[0;31m \u001b[0mc1\u001b[0m\u001b[0;34m.\u001b[0m\u001b[0mimaginary\u001b[0m \u001b[0;34m=\u001b[0m \u001b[0;36m3\u001b[0m\u001b[0;34m\u001b[0m\u001b[0m\n\u001b[0m",
      "\u001b[0;31mAttributeError\u001b[0m: can't set attribute"
     ]
    }
   ],
   "source": [
    "c1.imaginary = 3"
   ]
  },
  {
   "cell_type": "markdown",
   "metadata": {},
   "source": [
    "### Q2. Add a class method\n",
    "\n",
    "Implement a class method `make_complex` that takes two arguments and constructs a complex number for us. Rewrite the class definition above with this method.\n",
    "\n",
    "Also add a `__str__` method to print out complex numbers in the usual form `1+2i`.\n",
    "\n",
    "Test (informally) that both your methods work."
   ]
  },
  {
   "cell_type": "code",
   "execution_count": 13,
   "metadata": {
    "collapsed": true
   },
   "outputs": [],
   "source": [
    "#your code here\n",
    "class ComplexClass():\n",
    "    \n",
    "    def __init__(self, a, b):\n",
    "        self.__real = a\n",
    "        self.__imaginary = b\n",
    "    \n",
    "    def __repr__(self):\n",
    "        class_name = type(self).__name__\n",
    "        return \"%s(real=%r, imaginary=%r)\" % (class_name, self.__real, self.__imaginary)\n",
    "        \n",
    "    @property\n",
    "    def real(self):\n",
    "        return self.__real\n",
    "    \n",
    "    @real.setter\n",
    "    def real(self, value=None):\n",
    "        if value:\n",
    "            self.__real=value\n",
    "            \n",
    "    @property\n",
    "    def imaginary(self):\n",
    "        return self.__imaginary\n",
    "    \n",
    "    @classmethod\n",
    "    def make_complex(cls, a, b):\n",
    "        return cls(a, b)\n",
    "    \n",
    "    def __str__(self):\n",
    "        return \"%s+%si\" % (self.__real, self.__imaginary)\n",
    "    "
   ]
  },
  {
   "cell_type": "code",
   "execution_count": 14,
   "metadata": {
    "collapsed": false
   },
   "outputs": [
    {
     "name": "stdout",
     "output_type": "stream",
     "text": [
      "1+2i\n"
     ]
    }
   ],
   "source": [
    "# your code here\n",
    "c = ComplexClass(1,2)\n",
    "print(c)"
   ]
  },
  {
   "cell_type": "code",
   "execution_count": 15,
   "metadata": {
    "collapsed": false
   },
   "outputs": [
    {
     "name": "stdout",
     "output_type": "stream",
     "text": [
      "1+2i\n"
     ]
    }
   ],
   "source": [
    "# your code here\n",
    "c_prime = ComplexClass.make_complex(1,2)\n",
    "print(c_prime)"
   ]
  },
  {
   "cell_type": "markdown",
   "metadata": {},
   "source": [
    "Notice that python marginally obfuscates variables with two leading underscores. But where are our properties?"
   ]
  },
  {
   "cell_type": "code",
   "execution_count": 16,
   "metadata": {
    "collapsed": false
   },
   "outputs": [
    {
     "data": {
      "text/plain": [
       "{'_ComplexClass__imaginary': 2, '_ComplexClass__real': 1}"
      ]
     },
     "execution_count": 16,
     "metadata": {},
     "output_type": "execute_result"
    }
   ],
   "source": [
    "vars(c_prime)"
   ]
  },
  {
   "cell_type": "markdown",
   "metadata": {},
   "source": [
    "This tells us a bit about lookup with properties. When you do instance.attribute for something marked as a property, it is first looked up in instance.__class__ and only then in the instance specific dictionary. "
   ]
  },
  {
   "cell_type": "code",
   "execution_count": 17,
   "metadata": {
    "collapsed": false
   },
   "outputs": [
    {
     "data": {
      "text/plain": [
       "mappingproxy({'__str__': <function ComplexClass.__str__ at 0x1042dd840>, 'imaginary': <property object at 0x104272548>, '__doc__': None, '__init__': <function ComplexClass.__init__ at 0x1042dd510>, '__weakref__': <attribute '__weakref__' of 'ComplexClass' objects>, '__module__': '__main__', '__dict__': <attribute '__dict__' of 'ComplexClass' objects>, 'make_complex': <classmethod object at 0x1042c8f98>, '__repr__': <function ComplexClass.__repr__ at 0x1042dd598>, 'real': <property object at 0x104272368>})"
      ]
     },
     "execution_count": 17,
     "metadata": {},
     "output_type": "execute_result"
    }
   ],
   "source": [
    "vars(type(c_prime))"
   ]
  },
  {
   "cell_type": "markdown",
   "metadata": {},
   "source": [
    "The usual way in Python is exactly the reverse, a variable called as `self.x` is first looked up in the instance dictionary, and only then in the class dictionary."
   ]
  },
  {
   "cell_type": "markdown",
   "metadata": {},
   "source": [
    "### A sequence for light curves"
   ]
  },
  {
   "cell_type": "code",
   "execution_count": 23,
   "metadata": {
    "collapsed": false
   },
   "outputs": [
    {
     "name": "stdout",
     "output_type": "stream",
     "text": [
      "#Field Tile Seq RA(hour) Dec(deg) Filter mean_Mag med_Mag mean_(B-R) med_(B-R)\r\n",
      "#1 3441 15 5.03111 -69.3896 B -9.765 -9.748 0.219 0.243\r\n",
      "#MJD Mag Err\r\n",
      "48823.477419 -9.332 0.012\r\n",
      "48823.487014 -9.396 0.01\r\n"
     ]
    }
   ],
   "source": [
    "!head -5 ./data/CEPH/lc_1.3441.15.B.mjd"
   ]
  },
  {
   "cell_type": "code",
   "execution_count": 24,
   "metadata": {
    "collapsed": true
   },
   "outputs": [],
   "source": [
    "def lc_reader(filename):\n",
    "    lclist=[]\n",
    "    with open(filename) as fp:\n",
    "        for line in fp:\n",
    "            if line.find('#')!=0:\n",
    "                lclist.append([float(f) for f in line.strip().split()])\n",
    "    return lclist"
   ]
  },
  {
   "cell_type": "code",
   "execution_count": 25,
   "metadata": {
    "collapsed": false
   },
   "outputs": [
    {
     "data": {
      "text/plain": [
       "[[48823.477419, -9.332, 0.012],\n",
       " [48823.487014, -9.396, 0.01],\n",
       " [48823.496759, -9.358, 0.011],\n",
       " [48824.458206, -9.333, 0.003],\n",
       " [48824.467697, -9.333, 0.003]]"
      ]
     },
     "execution_count": 25,
     "metadata": {},
     "output_type": "execute_result"
    }
   ],
   "source": [
    "eg = lc_reader(\"./data/CEPH/lc_1.3441.15.B.mjd\")\n",
    "eg[:5]"
   ]
  },
  {
   "cell_type": "code",
   "execution_count": 26,
   "metadata": {
    "collapsed": false
   },
   "outputs": [
    {
     "data": {
      "image/png": "[encoded data removed]",
      "text/plain": [
       "<matplotlib.figure.Figure at 0x1042e4390>"
      ]
     },
     "metadata": {},
     "output_type": "display_data"
    }
   ],
   "source": [
    "%matplotlib inline\n",
    "import matplotlib.pyplot as plt\n",
    "plt.figure(figsize=(12,4))\n",
    "plt.plot([x[0] for x in eg], [x[1] for x in eg],'.');"
   ]
  },
  {
   "cell_type": "markdown",
   "metadata": {},
   "source": [
    "### Q3. Reader with metadata\n",
    "\n",
    "The first two lines of the file, after the `#` have facet names and facet values. These are in the same order and space separated. Change `lc_reader` ro parse these lines as well, returning both the list we had earlier, and a second dictionary of facetnames and facetvalues."
   ]
  },
  {
   "cell_type": "code",
   "execution_count": 27,
   "metadata": {
    "collapsed": true
   },
   "outputs": [],
   "source": [
    "# your code here\n",
    "def lc_reader(filename):\n",
    "    lclist=[]\n",
    "    facet_dict={}\n",
    "    with open(filename) as fp:\n",
    "        for line in fp:\n",
    "            if line.find('#') == 0 and line[1] == 'F':\n",
    "                facet_names = [name for name in line[1:].strip().split()]\n",
    "            elif line.find('#') == 0 and line[1] != 'M':\n",
    "                facet_values = [val for val in line[1:].strip().split()]\n",
    "            elif line.find('#')!=0:\n",
    "                lclist.append([float(f) for f in line.strip().split()])\n",
    "    facet_dict = dict(zip(facet_names, facet_values)) \n",
    "    for facet in facet_dict:\n",
    "        if facet != \"Filter\":\n",
    "            facet_dict[facet] = float(facet_dict[facet])\n",
    "    return lclist, facet_dict"
   ]
  },
  {
   "cell_type": "markdown",
   "metadata": {},
   "source": [
    "We use your definition above to write a `LightCurve` class with a class method that reads the light curve from a file. \n",
    "\n",
    "### Q4. A Light Curve Class with properties\n",
    "\n",
    "Since data in a light-curve is read-once, we use properties to prevent any changes to the data. Add to the light curve class below read-only properties `time`, `amplitude` which correspond to `_time` and `_amplitude`, and also a read-only property `timeseries` which zips these together. Notice how `self.timeseries` is used in `__repr__` below. "
   ]
  },
  {
   "cell_type": "code",
   "execution_count": 29,
   "metadata": {
    "collapsed": true
   },
   "outputs": [],
   "source": [
    "import itertools\n",
    "class LightCurve:\n",
    "    \n",
    "    def __init__(self, data, metadict):\n",
    "        self._time = [x[0] for x in data]\n",
    "        self._amplitude = [x[1] for x in data]\n",
    "        self._error = [x[2] for x in data]\n",
    "        self.metadata = metadict\n",
    "        self.filename = None\n",
    "    \n",
    "    @classmethod\n",
    "    def from_file(cls, filename):\n",
    "        lclist, metadict = lc_reader(filename)\n",
    "        instance = cls(lclist, metadict)\n",
    "        instance.filename = filename\n",
    "        return instance\n",
    "    \n",
    "    def __repr__(self):\n",
    "        class_name = type(self).__name__\n",
    "        components = reprlib.repr(list(itertools.islice(self.timeseries,0,10)))\n",
    "        components = components[components.find('['):]\n",
    "        return '{}({})'.format(class_name, components)        \n",
    "        \n",
    "    #your code here\n",
    "    @property\n",
    "    def time(self):\n",
    "        return self._time\n",
    "    \n",
    "    @property\n",
    "    def amplitude(self):\n",
    "        return self._amplitude\n",
    "    \n",
    "    @property\n",
    "    def timeseries(self):\n",
    "        return list(zip(self._time, self._amplitude))\n"
   ]
  },
  {
   "cell_type": "code",
   "execution_count": 30,
   "metadata": {
    "collapsed": false
   },
   "outputs": [
    {
     "data": {
      "text/plain": [
       "LightCurve([(48823.477419, -9.332), (48823.487014, -9.396), (48823.496759, -9.358), (48824.458206, -9.333), (48824.467697, -9.333), (48824.477639, -9.349), ...])"
      ]
     },
     "execution_count": 30,
     "metadata": {},
     "output_type": "execute_result"
    }
   ],
   "source": [
    "l = LightCurve.from_file(\"./data/CEPH/lc_1.3441.15.B.mjd\")\n",
    "l"
   ]
  },
  {
   "cell_type": "markdown",
   "metadata": {},
   "source": [
    "### Q5. Make LightCurve a sequence\n",
    "\n",
    "But our Lightcurves class is not a sequence yet! It implements none of the sequence protocol. The `__repr__` above makes it look like one, but its your job to make it one! (Hint: dont change the O-complexity behavior of indexing)"
   ]
  },
  {
   "cell_type": "code",
   "execution_count": 31,
   "metadata": {
    "collapsed": false
   },
   "outputs": [],
   "source": [
    "#your code here\n",
    "import itertools\n",
    "class LightCurve:\n",
    "    \n",
    "    def __init__(self, data, metadict):\n",
    "        self._time = [x[0] for x in data]\n",
    "        self._amplitude = [x[1] for x in data]\n",
    "        self._error = [x[2] for x in data]\n",
    "        self.metadata = metadict\n",
    "        self.filename = None\n",
    "    \n",
    "    @classmethod\n",
    "    def from_file(cls, filename):\n",
    "        lclist, metadict = lc_reader(filename)\n",
    "        instance = cls(lclist, metadict)\n",
    "        instance.filename = filename\n",
    "        return instance\n",
    "    \n",
    "    def __repr__(self):\n",
    "        class_name = type(self).__name__\n",
    "        components = reprlib.repr(list(itertools.islice(self.timeseries,0,10)))\n",
    "        components = components[components.find('['):]\n",
    "        return '{}({})'.format(class_name, components)        \n",
    "        \n",
    "    #your code here\n",
    "    @property\n",
    "    def time(self):\n",
    "        return self._time\n",
    "    \n",
    "    @property\n",
    "    def amplitude(self):\n",
    "        return self._amplitude\n",
    "    \n",
    "    @property\n",
    "    def timeseries(self):\n",
    "        return list(zip(self._time, self._amplitude))\n",
    "    \n",
    "    def __len__(self):\n",
    "        return len(self.timeseries)\n",
    "    \n",
    "    def __getitem__(self, position):\n",
    "        return self.timeseries[position] \n"
   ]
  },
  {
   "cell_type": "code",
   "execution_count": 32,
   "metadata": {
    "collapsed": false
   },
   "outputs": [
    {
     "data": {
      "text/plain": [
       "LightCurve([(48823.477419, -9.332), (48823.487014, -9.396), (48823.496759, -9.358), (48824.458206, -9.333), (48824.467697, -9.333), (48824.477639, -9.349), ...])"
      ]
     },
     "execution_count": 32,
     "metadata": {},
     "output_type": "execute_result"
    }
   ],
   "source": [
    "l2 = LightCurve.from_file(\"./data/CEPH/lc_1.3441.15.B.mjd\")\n",
    "l2"
   ]
  },
  {
   "cell_type": "code",
   "execution_count": 33,
   "metadata": {
    "collapsed": false
   },
   "outputs": [
    {
     "data": {
      "text/plain": [
       "1233"
      ]
     },
     "execution_count": 33,
     "metadata": {},
     "output_type": "execute_result"
    }
   ],
   "source": [
    "len(l2)"
   ]
  },
  {
   "cell_type": "code",
   "execution_count": 34,
   "metadata": {
    "collapsed": false
   },
   "outputs": [
    {
     "data": {
      "text/plain": [
       "(48974.325278, -10.251)"
      ]
     },
     "execution_count": 34,
     "metadata": {},
     "output_type": "execute_result"
    }
   ],
   "source": [
    "l2[100]"
   ]
  },
  {
   "cell_type": "code",
   "execution_count": 35,
   "metadata": {
    "collapsed": false
   },
   "outputs": [
    {
     "data": {
      "text/plain": [
       "[(48823.487014, -9.396), (48823.496759, -9.358)]"
      ]
     },
     "execution_count": 35,
     "metadata": {},
     "output_type": "execute_result"
    }
   ],
   "source": [
    "l2[1:3]# this will be not quite what we want given our __repr__"
   ]
  },
  {
   "cell_type": "markdown",
   "metadata": {},
   "source": [
    "The reason for the above not being quite the result we expect is because we dont yet know how Python handles slices. We shall do this next week!"
   ]
  },
  {
   "cell_type": "markdown",
   "metadata": {},
   "source": [
    "### A database for light curves\n",
    "\n",
    "We now write a small little database class whose game is to read all light curves from a directory, store them in memory and construct an \"index\" on the field, tile, and color that these light-curves have.\n",
    "\n",
    "A light curve filename of the form `lc_1.3441.15.B.mjd` means that this data has `field` 1, `tile` 3441, `sequence` 15, and `color` 'B'. We'll parse the filenames below and store the indexed in internal attributes such as `self._field_index`. Note the use of `defaultdict` instead of a regular dictionary (look it up). Are we duplicating Light Curve objects in these indices?\n",
    "\n",
    "### Q6. \n",
    "\n",
    "Write a method `def retrieve(self, facet, value)` which retrieves a list of Light Curves corresponding to the given value of the facet. (like say facet is tile and value is 4661)."
   ]
  },
  {
   "cell_type": "code",
   "execution_count": 36,
   "metadata": {
    "collapsed": false
   },
   "outputs": [],
   "source": [
    "import os\n",
    "from collections import defaultdict\n",
    "class LightCurveDB:\n",
    "    \n",
    "    def __init__(self):\n",
    "        self._collection={}\n",
    "        self._field_index=defaultdict(list)\n",
    "        self._tile_index=defaultdict(list)\n",
    "        self._color_index=defaultdict(list)\n",
    "    \n",
    "    def populate(self, folder):\n",
    "        for root,dirs,files in os.walk(folder): # DEPTH 1 ONLY\n",
    "            for file in files:\n",
    "                if file.find('.mjd')!=-1:\n",
    "                    the_path = root+\"/\"+file\n",
    "                    self._collection[file] = LightCurve.from_file(the_path)\n",
    "    \n",
    "    def index(self):\n",
    "        for f in self._collection:\n",
    "            lc, tilestring, seq, color, _ = f.split('.')\n",
    "            field = int(lc.split('_')[-1])\n",
    "            tile = int(tilestring)\n",
    "            self._field_index[field].append(self._collection[f])\n",
    "            self._tile_index[tile].append(self._collection[f])\n",
    "            self._color_index[color].append(self._collection[f])\n",
    "     \n",
    "    #your code here\n",
    "    def retrieve(self, facet, value):\n",
    "        if facet == \"field\":\n",
    "            return self._field_index[value]\n",
    "        elif facet == \"tile\":\n",
    "            return self._tile_index[value]\n",
    "        elif facet == \"color\":\n",
    "            return self._color_index[value]\n"
   ]
  },
  {
   "cell_type": "code",
   "execution_count": 37,
   "metadata": {
    "collapsed": false
   },
   "outputs": [],
   "source": [
    "ldb = LightCurveDB()\n",
    "ldb.populate(\"./data/CEPH\")\n",
    "ldb.index()"
   ]
  },
  {
   "cell_type": "code",
   "execution_count": 38,
   "metadata": {
    "collapsed": false
   },
   "outputs": [
    {
     "data": {
      "text/plain": [
       "[LightCurve([(48984.446505, -9.979), (48985.497512, -9.903), (48987.465058, -9.65), (48988.469595, -9.613), (48996.486991, -9.997), (48998.445995, -9.787), ...]),\n",
       " LightCurve([(48823.487014, -9.441), (48824.458206, -9.657), (48824.467697, -9.648), (48824.477639, -9.636), (48825.483183, -9.784), (48825.492847, -9.786), ...])]"
      ]
     },
     "execution_count": 38,
     "metadata": {},
     "output_type": "execute_result"
    }
   ],
   "source": [
    "ldb.retrieve('tile', 4661) # do this"
   ]
  },
  {
   "cell_type": "markdown",
   "metadata": {},
   "source": [
    "### Q7. Module-arity\n",
    "\n",
    "Put your `lc_reader`, and `LightCurve` and `LightCurveDB` classes in a module: a separate file, named lc.py. Organize the imports at the top. The following code should then work here"
   ]
  },
  {
   "cell_type": "code",
   "execution_count": 39,
   "metadata": {
    "collapsed": false
   },
   "outputs": [
    {
     "data": {
      "text/plain": [
       "[LightCurve([(48984.446505, -9.979), (48985.497512, -9.903), (48987.465058, -9.65), (48988.469595, -9.613), (48996.486991, -9.997), (48998.445995, -9.787), ...]),\n",
       " LightCurve([(48823.487014, -9.441), (48824.458206, -9.657), (48824.467697, -9.648), (48824.477639, -9.636), (48825.483183, -9.784), (48825.492847, -9.786), ...])]"
      ]
     },
     "execution_count": 39,
     "metadata": {},
     "output_type": "execute_result"
    }
   ],
   "source": [
    "import lc\n",
    "ldb2 = lc.LightCurveDB()\n",
    "ldb2.populate(\"./data/CEPH\")\n",
    "ldb2.index()\n",
    "ldb2.retrieve('tile', 4661)"
   ]
  }
 ],
 "metadata": {
  "kernelspec": {
   "display_name": "Python 3",
   "language": "python",
   "name": "python3"
  },
  "language_info": {
   "codemirror_mode": {
    "name": "ipython",
    "version": 3
   },
   "file_extension": ".py",
   "mimetype": "text/x-python",
   "name": "python",
   "nbconvert_exporter": "python",
   "pygments_lexer": "ipython3",
   "version": "3.5.1"
  }
 },
 "nbformat": 4,
 "nbformat_minor": 0
}
