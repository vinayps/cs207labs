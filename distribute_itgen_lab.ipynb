{
 "cells": [
  {
   "cell_type": "markdown",
   "metadata": {
    "collapsed": true
   },
   "source": [
    "## Q1.\n",
    "\n",
    "Add methods `__iter__` to your project Time Series class to iterate over values, a method `itertimes` to iterate over times, a method `itervalues` to iterate over values, and a method `iteritems` to iterate over time-value pairs. (This is a similar interface to python dictionaries). To test these, check both the types of the results and the answers you expect."
   ]
  },
  {
   "cell_type": "markdown",
   "metadata": {
    "collapsed": true
   },
   "source": [
    "Answer - Done as a group and submitted on repo"
   ]
  },
  {
   "cell_type": "markdown",
   "metadata": {},
   "source": [
    "## Q2.\n",
    "\n",
    "An online mean and standard deviation algorithm.\n",
    "\n",
    "Below is a function to generate a potentially infinite stream of 1-D data."
   ]
  },
  {
   "cell_type": "code",
   "execution_count": 3,
   "metadata": {
    "collapsed": false
   },
   "outputs": [],
   "source": [
    "from random import normalvariate, random\n",
    "from itertools import count\n",
    "def make_data(m, stop=None):\n",
    "    for _ in count():\n",
    "        if stop and _ > stop:\n",
    "            break\n",
    "        yield 1.0e09 + normalvariate(0, m*random() )\n",
    "        "
   ]
  },
  {
   "cell_type": "markdown",
   "metadata": {},
   "source": [
    "Here is an implementation of an online mean algorithm..see http://www.johndcook.com/blog/standard_deviation/ and the link to http://www.johndcook.com/blog/2008/09/26/comparing-three-methods-of-computing-standard-deviation/ in-between. (Convince yourselves of the formulas...)"
   ]
  },
  {
   "cell_type": "code",
   "execution_count": 1,
   "metadata": {
    "collapsed": true
   },
   "outputs": [],
   "source": [
    "def online_mean(iterator):\n",
    "    n = 0\n",
    "    mu = 0\n",
    "    for value in iterator:\n",
    "        n += 1\n",
    "        delta = value - mu\n",
    "        mu = mu + delta/n\n",
    "        yield mu"
   ]
  },
  {
   "cell_type": "markdown",
   "metadata": {},
   "source": [
    "We use out generator functions to implement iterators:"
   ]
  },
  {
   "cell_type": "code",
   "execution_count": 4,
   "metadata": {
    "collapsed": false
   },
   "outputs": [
    {
     "data": {
      "text/plain": [
       "[999999999.8509412,\n",
       " 999999993.1897373,\n",
       " 1000000000.891846,\n",
       " 999999997.5906372,\n",
       " 1000000004.8087181,\n",
       " 999999997.5352579,\n",
       " 1000000000.3732481,\n",
       " 999999999.3679739,\n",
       " 999999997.9066861,\n",
       " 1000000003.3359729,\n",
       " 999999997.405954]"
      ]
     },
     "execution_count": 4,
     "metadata": {},
     "output_type": "execute_result"
    }
   ],
   "source": [
    "g = make_data(5, 10)\n",
    "list(g)"
   ]
  },
  {
   "cell_type": "code",
   "execution_count": 5,
   "metadata": {
    "collapsed": false
   },
   "outputs": [
    {
     "name": "stdout",
     "output_type": "stream",
     "text": [
      "<class 'generator'>\n"
     ]
    },
    {
     "data": {
      "text/plain": [
       "[999999995.229255,\n",
       " 999999997.9925121,\n",
       " 999999998.5620692,\n",
       " 999999998.9312924,\n",
       " 999999998.8732634,\n",
       " 999999999.5785928,\n",
       " 999999999.2463268,\n",
       " 999999999.4201928,\n",
       " 999999999.3208656,\n",
       " 999999999.4380766,\n",
       " 999999999.0996964,\n",
       " 999999999.1656443,\n",
       " 999999999.2076358,\n",
       " 999999999.2295027,\n",
       " 999999999.161528,\n",
       " 999999999.323338,\n",
       " 999999999.5162235,\n",
       " 999999999.5477214,\n",
       " 999999999.6177036,\n",
       " 999999999.7507001,\n",
       " 999999999.7822069,\n",
       " 999999999.7717952,\n",
       " 999999999.6949552,\n",
       " 999999999.6804736,\n",
       " 999999999.5851457,\n",
       " 999999999.6292224,\n",
       " 999999999.6268014,\n",
       " 999999999.4498057,\n",
       " 999999999.6313498,\n",
       " 999999999.7805952,\n",
       " 999999999.7365594,\n",
       " 999999999.7344344,\n",
       " 999999999.9137712,\n",
       " 999999999.901228,\n",
       " 999999999.8897069,\n",
       " 999999999.8663139,\n",
       " 999999999.7254987,\n",
       " 999999999.7007502,\n",
       " 999999999.7341574,\n",
       " 999999999.8015827,\n",
       " 999999999.8373306,\n",
       " 999999999.9612532,\n",
       " 999999999.9451023,\n",
       " 999999999.9417627,\n",
       " 999999999.9469988,\n",
       " 999999999.9507598,\n",
       " 999999999.8436308,\n",
       " 999999999.7651947,\n",
       " 999999999.7221284,\n",
       " 999999999.6529275,\n",
       " 999999999.640303,\n",
       " 999999999.6331186,\n",
       " 999999999.5717001,\n",
       " 999999999.5804359,\n",
       " 999999999.6315042,\n",
       " 999999999.6218061,\n",
       " 999999999.7404372,\n",
       " 999999999.7162676,\n",
       " 999999999.7127055,\n",
       " 999999999.7100216,\n",
       " 999999999.717269,\n",
       " 999999999.7572616,\n",
       " 999999999.7008965,\n",
       " 999999999.6515126,\n",
       " 999999999.6705021,\n",
       " 999999999.6689981,\n",
       " 999999999.7429787,\n",
       " 999999999.7627115,\n",
       " 999999999.7549844,\n",
       " 999999999.7832724,\n",
       " 999999999.7872083,\n",
       " 999999999.7800219,\n",
       " 999999999.7772312,\n",
       " 999999999.8618051,\n",
       " 999999999.8932377,\n",
       " 999999999.9014626,\n",
       " 999999999.9505142,\n",
       " 999999999.9488533,\n",
       " 999999999.9174726,\n",
       " 999999999.9571326,\n",
       " 999999999.981096,\n",
       " 999999999.9932206,\n",
       " 999999999.9430151,\n",
       " 999999999.8855984,\n",
       " 999999999.8987364,\n",
       " 999999999.8924874,\n",
       " 999999999.8938129,\n",
       " 999999999.9128428,\n",
       " 999999999.9242482,\n",
       " 999999999.9273542,\n",
       " 999999999.9279655,\n",
       " 999999999.8954552,\n",
       " 999999999.9224828,\n",
       " 999999999.9124712,\n",
       " 999999999.9078546,\n",
       " 999999999.828898,\n",
       " 999999999.8908485,\n",
       " 999999999.8915849,\n",
       " 999999999.8878659,\n",
       " 999999999.8617799,\n",
       " 999999999.8830991]"
      ]
     },
     "execution_count": 5,
     "metadata": {},
     "output_type": "execute_result"
    }
   ],
   "source": [
    "g = online_mean(make_data(5, 100))\n",
    "print(type(g))\n",
    "list(g)"
   ]
  },
  {
   "cell_type": "markdown",
   "metadata": {},
   "source": [
    "### 2.1\n",
    "\n",
    "Implement the standard deviation algorithm as a generator function as\n",
    "\n",
    "```python\n",
    "def online_mean_dev(iterator):\n",
    "    BLA BLA\n",
    "    if n > 1:\n",
    "        stddev = math.sqrt(dev_accum/(n-1))\n",
    "        yield (n, value, mu, stddev)\n",
    "```"
   ]
  },
  {
   "cell_type": "code",
   "execution_count": 11,
   "metadata": {
    "collapsed": false
   },
   "outputs": [],
   "source": [
    "# your code here\n",
    "import math\n",
    "def online_mean_dev(iterator):\n",
    "    n = 0\n",
    "    mu = 0\n",
    "    for value in iterator:\n",
    "        n += 1\n",
    "        delta = value - mu\n",
    "        mu = mu + delta/n\n",
    "        if n == 1:\n",
    "            dev_accum = 0\n",
    "        else:\n",
    "            dev_accum = dev_accum + delta*(value - mu)  \n",
    "    if n > 1:\n",
    "        stddev = math.sqrt(dev_accum/(n-1))\n",
    "        yield (n, value, mu, stddev)"
   ]
  },
  {
   "cell_type": "markdown",
   "metadata": {},
   "source": [
    "Here we make 100000 element data, and run this iterator on it (imagine running this on a time-series being slowly read from disk"
   ]
  },
  {
   "cell_type": "code",
   "execution_count": 47,
   "metadata": {
    "collapsed": true
   },
   "outputs": [],
   "source": [
    "data_with_stats = online_mean_dev(make_data(5, 100000))"
   ]
  },
  {
   "cell_type": "code",
   "execution_count": 48,
   "metadata": {
    "collapsed": false
   },
   "outputs": [
    {
     "data": {
      "text/plain": [
       "[(100001, 999999998.8868219, 999999999.9983464, 2.8793074239927328)]"
      ]
     },
     "execution_count": 48,
     "metadata": {},
     "output_type": "execute_result"
    }
   ],
   "source": [
    "list(data_with_stats)"
   ]
  },
  {
   "cell_type": "markdown",
   "metadata": {},
   "source": [
    "## Q3.\n",
    "\n",
    "Let's do Anomaly detection. Write a routine `is_ok`:\n",
    "\n",
    "```python\n",
    "def is_ok(level, t)\n",
    "```\n",
    "\n",
    "which takes a tuple like the one yielded by your code above and returns True if the value is inbetween `level`-$\\sigma$ of the mean."
   ]
  },
  {
   "cell_type": "code",
   "execution_count": 34,
   "metadata": {
    "collapsed": true
   },
   "outputs": [],
   "source": [
    "#your code here\n",
    "def is_ok(level, t):\n",
    "    if ( (t[2]-level*t[3]) < t[1] ) and ( t[1] < (t[2]+level*t[3]) ):\n",
    "        return True\n",
    "    else:\n",
    "        return False"
   ]
  },
  {
   "cell_type": "markdown",
   "metadata": {},
   "source": [
    "We use this function to create a predicate passed through to `itertools.filterfalse` which is then used to obtain an iterator on the anomalies."
   ]
  },
  {
   "cell_type": "code",
   "execution_count": 44,
   "metadata": {
    "collapsed": true
   },
   "outputs": [],
   "source": [
    "from itertools import filterfalse\n",
    "pred = lambda t: is_ok(0.5, t) # changed level so I can see some anomalies\n",
    "anomalies = filterfalse(pred, data_with_stats)"
   ]
  },
  {
   "cell_type": "markdown",
   "metadata": {},
   "source": [
    "We materialize the anomalies..."
   ]
  },
  {
   "cell_type": "code",
   "execution_count": 46,
   "metadata": {
    "collapsed": false
   },
   "outputs": [
    {
     "data": {
      "text/plain": [
       "[(100001, 999999997.2713226, 999999999.9885623, 2.8855089810983277)]"
      ]
     },
     "execution_count": 46,
     "metadata": {},
     "output_type": "execute_result"
    }
   ],
   "source": [
    "list(anomalies)#materialize"
   ]
  },
  {
   "cell_type": "markdown",
   "metadata": {},
   "source": [
    "## To think of, but not hand in\n",
    "\n",
    "What kinds of anomalies will this algorithm pick up? What kinds would a shorter \"window\" of anomaly detection, like 100 points around the time in question pick? How might you create an algorithm which does window based averaging? (hint: the window size is small compared to the time series size). \n",
    "\n",
    "Finally think a bit of how you might implement all of this in a production environment..remember that data streaming in might get backed up when you handle an anomaly.\n",
    "\n",
    "(Some inspiration might accrue if you look at the docs for `collections.deque`)."
   ]
  },
  {
   "cell_type": "code",
   "execution_count": null,
   "metadata": {
    "collapsed": true
   },
   "outputs": [],
   "source": []
  }
 ],
 "metadata": {
  "kernelspec": {
   "display_name": "Python 3",
   "language": "python",
   "name": "python3"
  },
  "language_info": {
   "codemirror_mode": {
    "name": "ipython",
    "version": 3
   },
   "file_extension": ".py",
   "mimetype": "text/x-python",
   "name": "python",
   "nbconvert_exporter": "python",
   "pygments_lexer": "ipython3",
   "version": "3.5.1"
  }
 },
 "nbformat": 4,
 "nbformat_minor": 0
}
