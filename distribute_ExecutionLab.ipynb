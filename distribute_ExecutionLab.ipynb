{
 "cells": [
  {
   "cell_type": "code",
   "execution_count": 1,
   "metadata": {
    "collapsed": true
   },
   "outputs": [],
   "source": [
    "from IPython.display import HTML"
   ]
  },
  {
   "cell_type": "markdown",
   "metadata": {},
   "source": [
    "### Q1. \n",
    "\n",
    "What is happening here? Hazard a guess as to why these id's are the same."
   ]
  },
  {
   "cell_type": "code",
   "execution_count": 2,
   "metadata": {
    "collapsed": false
   },
   "outputs": [
    {
     "data": {
      "text/plain": [
       "(4363477744,\n",
       " 4363477936,\n",
       " 4297514912,\n",
       " 4297514912,\n",
       " 4364449928,\n",
       " 4362911368,\n",
       " 4363269512)"
      ]
     },
     "execution_count": 2,
     "metadata": {},
     "output_type": "execute_result"
    }
   ],
   "source": [
    "e=[100000987,2,3,4]\n",
    "c=[1,2,3,4]\n",
    "d=100000987\n",
    "f = 1\n",
    "g = (\"sdkgsdgs\", \"vinay\")\n",
    "h = (\"sdkgsdgs\", \"vinay\")\n",
    "\n",
    "id(e[0]), id(d), id(c[0]), id(f), id(e), id(g), id(h)"
   ]
  },
  {
   "cell_type": "markdown",
   "metadata": {},
   "source": [
    "So based on the above tests and discussion with Rahul, my understanding is that Python optimizes at runtime by preallocating memory for commonly used integers like 1. However, this is not true for a randomly chosen very high value like 100000987 as can be seen here. "
   ]
  },
  {
   "cell_type": "code",
   "execution_count": 3,
   "metadata": {
    "collapsed": false
   },
   "outputs": [
    {
     "data": {
      "text/html": [
       "<iframe width=\"800\" height=\"500\" frameborder=\"0\" src=\"http://pythontutor.com/iframe-embed.html#code=e%3D%5B1,2,3,4%5D%0Aprint(%22e%22,e%29&origin=opt-frontend.js&cumulative=false&heapPrimitives=true&textReferences=false&py=3&rawInputLstJSON=%5B%5D&curInstr=0&codeDivWidth=350&codeDivHeight=400\"> </iframe>"
      ],
      "text/plain": [
       "<IPython.core.display.HTML object>"
      ]
     },
     "execution_count": 3,
     "metadata": {},
     "output_type": "execute_result"
    }
   ],
   "source": [
    "HTML('<iframe width=\"800\" height=\"500\" frameborder=\"0\" src=\"http://pythontutor.com/iframe-embed.html#code=e%3D%5B1,2,3,4%5D%0Aprint(%22e%22,e%29&origin=opt-frontend.js&cumulative=false&heapPrimitives=true&textReferences=false&py=3&rawInputLstJSON=%5B%5D&curInstr=0&codeDivWidth=350&codeDivHeight=400\"> </iframe>')"
   ]
  },
  {
   "cell_type": "markdown",
   "metadata": {},
   "source": [
    "### Q2.\n",
    "\n",
    "Here we work through an example taken from SICP, in which we try and write a bank account withdrawal system"
   ]
  },
  {
   "cell_type": "code",
   "execution_count": 4,
   "metadata": {
    "collapsed": true
   },
   "outputs": [],
   "source": [
    "def make_withdraw1(balance):\n",
    "    \"\"\"Return a withdraw function that draws down balance with each call.\"\"\"\n",
    "    def withdraw(amount):#you are ok if you use balance as a read-only property\n",
    "        if amount > balance:\n",
    "            return 'Insufficient funds'\n",
    "        return balance - amount\n",
    "    return withdraw"
   ]
  },
  {
   "cell_type": "markdown",
   "metadata": {},
   "source": [
    "Lets make a 5 buck withdrawal"
   ]
  },
  {
   "cell_type": "code",
   "execution_count": 5,
   "metadata": {
    "collapsed": false
   },
   "outputs": [
    {
     "data": {
      "text/plain": [
       "15"
      ]
     },
     "execution_count": 5,
     "metadata": {},
     "output_type": "execute_result"
    }
   ],
   "source": [
    "wdfrom20=make_withdraw1(20)\n",
    "wdfrom20(5)"
   ]
  },
  {
   "cell_type": "markdown",
   "metadata": {},
   "source": [
    "Lets do it again"
   ]
  },
  {
   "cell_type": "code",
   "execution_count": 6,
   "metadata": {
    "collapsed": false
   },
   "outputs": [
    {
     "data": {
      "text/plain": [
       "15"
      ]
     },
     "execution_count": 6,
     "metadata": {},
     "output_type": "execute_result"
    }
   ],
   "source": [
    "wdfrom20(5)"
   ]
  },
  {
   "cell_type": "markdown",
   "metadata": {},
   "source": [
    "This is not quite what we want. We'd want it to go down to 10 on a repeated withdrawal. Remember, writing it like this, we have no access to `balance` directly. In other words, we want `balance` that was captured from the enclosing frame to be *changeable*, not unchangeable. "
   ]
  },
  {
   "cell_type": "markdown",
   "metadata": {},
   "source": [
    "Lets try something simple. Even though `balance` was captured from the enclosing frame, lets try reassigning it in `withdraw`. So, write a new `make_withdraw2` in which `withdraw` has this re-assignment. What happens when you do this?"
   ]
  },
  {
   "cell_type": "code",
   "execution_count": 7,
   "metadata": {
    "collapsed": true
   },
   "outputs": [],
   "source": [
    "#your code here\n",
    "def make_withdraw2(balance):\n",
    "    \"\"\"Return a withdraw function that draws down balance with each call.\"\"\"\n",
    "    def withdraw(amount):#you are ok if you use balance as a read-only property\n",
    "        if amount > balance:\n",
    "            return 'Insufficient funds'\n",
    "        balance = balance - amount\n",
    "        return balance\n",
    "    return withdraw\n"
   ]
  },
  {
   "cell_type": "code",
   "execution_count": 22,
   "metadata": {
    "collapsed": false
   },
   "outputs": [
    {
     "ename": "UnboundLocalError",
     "evalue": "local variable 'balance' referenced before assignment",
     "output_type": "error",
     "traceback": [
      "\u001b[0;31m---------------------------------------------------------------------------\u001b[0m",
      "\u001b[0;31mUnboundLocalError\u001b[0m                         Traceback (most recent call last)",
      "\u001b[0;32m<ipython-input-22-46f4fc61007a>\u001b[0m in \u001b[0;36m<module>\u001b[0;34m()\u001b[0m\n\u001b[1;32m      1\u001b[0m \u001b[0mwdfrom20_2\u001b[0m\u001b[0;34m=\u001b[0m\u001b[0mmake_withdraw2\u001b[0m\u001b[0;34m(\u001b[0m\u001b[0;36m20\u001b[0m\u001b[0;34m)\u001b[0m\u001b[0;34m\u001b[0m\u001b[0m\n\u001b[0;32m----> 2\u001b[0;31m \u001b[0mwdfrom20_2\u001b[0m\u001b[0;34m(\u001b[0m\u001b[0;36m5\u001b[0m\u001b[0;34m)\u001b[0m\u001b[0;34m\u001b[0m\u001b[0m\n\u001b[0m",
      "\u001b[0;32m<ipython-input-21-3d0da539c03d>\u001b[0m in \u001b[0;36mwithdraw\u001b[0;34m(amount)\u001b[0m\n\u001b[1;32m      3\u001b[0m     \u001b[0;34m\"\"\"Return a withdraw function that draws down balance with each call.\"\"\"\u001b[0m\u001b[0;34m\u001b[0m\u001b[0m\n\u001b[1;32m      4\u001b[0m     \u001b[0;32mdef\u001b[0m \u001b[0mwithdraw\u001b[0m\u001b[0;34m(\u001b[0m\u001b[0mamount\u001b[0m\u001b[0;34m)\u001b[0m\u001b[0;34m:\u001b[0m\u001b[0;31m#you are ok if you use balance as a read-only property\u001b[0m\u001b[0;34m\u001b[0m\u001b[0m\n\u001b[0;32m----> 5\u001b[0;31m         \u001b[0;32mif\u001b[0m \u001b[0mamount\u001b[0m \u001b[0;34m>\u001b[0m \u001b[0mbalance\u001b[0m\u001b[0;34m:\u001b[0m\u001b[0;34m\u001b[0m\u001b[0m\n\u001b[0m\u001b[1;32m      6\u001b[0m             \u001b[0;32mreturn\u001b[0m \u001b[0;34m'Insufficient funds'\u001b[0m\u001b[0;34m\u001b[0m\u001b[0m\n\u001b[1;32m      7\u001b[0m         \u001b[0mbalance\u001b[0m \u001b[0;34m=\u001b[0m \u001b[0mbalance\u001b[0m \u001b[0;34m-\u001b[0m \u001b[0mamount\u001b[0m\u001b[0;34m\u001b[0m\u001b[0m\n",
      "\u001b[0;31mUnboundLocalError\u001b[0m: local variable 'balance' referenced before assignment"
     ]
    }
   ],
   "source": [
    "wdfrom20_2=make_withdraw2(20)\n",
    "wdfrom20_2(5)"
   ]
  },
  {
   "cell_type": "markdown",
   "metadata": {},
   "source": [
    "If you did it right, you should have got an error. As the Python Execution Model says:\n",
    "\n",
    "> If a name binding operation occurs anywhere within a code block, all uses of the name within the block are treated as references to the current block. This can lead to errors when a name is used within a block before it is bound. This rule is subtle. Python lacks declarations and allows name binding operations to occur anywhere within a code block. The local variables of a code block can be determined by scanning the entire text of the block for name binding operations.\n",
    "\n",
    "What has happened is that `balance` is now being treated as a local variable in `withdraw`, since the assignment has created a \"name\" for it. And then it does not have a value."
   ]
  },
  {
   "cell_type": "markdown",
   "metadata": {},
   "source": [
    "### Q3.\n",
    "\n",
    "We need to somehow tell Python that `balance` is NOT a local variable. The way to do this is the `nonlocal` keyword. Write a function `make_withdraw` using  \n",
    "\n",
    "`nonlocal balance` \n",
    "\n",
    "as the first line of the inner `withdraw` function. "
   ]
  },
  {
   "cell_type": "code",
   "execution_count": 8,
   "metadata": {
    "collapsed": false
   },
   "outputs": [],
   "source": [
    "#your code here\n",
    "def make_withdraw(balance):\n",
    "    \"\"\"Return a withdraw function that draws down balance with each call.\"\"\"\n",
    "    def withdraw(amount):#you are ok if you use balance as a read-only property\n",
    "        nonlocal balance\n",
    "        if amount > balance:\n",
    "            return \"Insufficient funds\"\n",
    "        balance = balance - amount\n",
    "        return balance\n",
    "    return withdraw"
   ]
  },
  {
   "cell_type": "code",
   "execution_count": 9,
   "metadata": {
    "collapsed": false
   },
   "outputs": [
    {
     "data": {
      "text/plain": [
       "15"
      ]
     },
     "execution_count": 9,
     "metadata": {},
     "output_type": "execute_result"
    }
   ],
   "source": [
    "from20_correct = make_withdraw(20)\n",
    "from20_correct(5)"
   ]
  },
  {
   "cell_type": "code",
   "execution_count": 10,
   "metadata": {
    "collapsed": false
   },
   "outputs": [
    {
     "data": {
      "text/plain": [
       "10"
      ]
     },
     "execution_count": 10,
     "metadata": {},
     "output_type": "execute_result"
    }
   ],
   "source": [
    "from20_correct(5)"
   ]
  },
  {
   "cell_type": "markdown",
   "metadata": {},
   "source": [
    "### Q4.\n",
    "\n",
    "Go to http://pythontutor.com/index.html, choose Python 3.3 as the language, and visualize your code. Embed the code from above in there. Pay attention to the variable `balance` in `f1: make_withdraw`."
   ]
  },
  {
   "cell_type": "code",
   "execution_count": 11,
   "metadata": {
    "collapsed": false
   },
   "outputs": [
    {
     "data": {
      "text/html": [
       "<iframe width=\"800\" height=\"500\" frameborder=\"0\" src=\"http://pythontutor.com/iframe-embed.html#code=def+make_withdraw(balance%29%3A%0A++++%22%22%22Return+a+withdraw+function+that+draws+down+balance+with+each+call.%22%22%22%0A++++def+withdraw(amount%29%3A%23you+are+ok+if+you+use+balance+as+a+read-only+property%0A++++++++nonlocal+balance%0A++++++++if+amount+%3E+balance%3A%0A++++++++++++return+%22Insufficient+funds%22%0A++++++++balance+%3D+balance+-+amount%0A++++++++return+balance%0A++++return+withdraw%0A%0Afrom20_correct+%3D+make_withdraw(20%29%0Afrom20_correct(5%29%0A%0Afrom20_correct(5%29&origin=opt-frontend.js&cumulative=false&heapPrimitives=false&textReferences=false&py=3&rawInputLstJSON=%5B%5D&curInstr=18&codeDivWidth=350&codeDivHeight=400\"> </iframe>"
      ],
      "text/plain": [
       "<IPython.core.display.HTML object>"
      ]
     },
     "execution_count": 11,
     "metadata": {},
     "output_type": "execute_result"
    }
   ],
   "source": [
    "#your code here\n",
    "HTML('<iframe width=\"800\" height=\"500\" frameborder=\"0\" src=\"http://pythontutor.com/iframe-embed.html#code=def+make_withdraw(balance%29%3A%0A++++%22%22%22Return+a+withdraw+function+that+draws+down+balance+with+each+call.%22%22%22%0A++++def+withdraw(amount%29%3A%23you+are+ok+if+you+use+balance+as+a+read-only+property%0A++++++++nonlocal+balance%0A++++++++if+amount+%3E+balance%3A%0A++++++++++++return+%22Insufficient+funds%22%0A++++++++balance+%3D+balance+-+amount%0A++++++++return+balance%0A++++return+withdraw%0A%0Afrom20_correct+%3D+make_withdraw(20%29%0Afrom20_correct(5%29%0A%0Afrom20_correct(5%29&origin=opt-frontend.js&cumulative=false&heapPrimitives=false&textReferences=false&py=3&rawInputLstJSON=%5B%5D&curInstr=18&codeDivWidth=350&codeDivHeight=400\"> </iframe>')"
   ]
  },
  {
   "cell_type": "markdown",
   "metadata": {},
   "source": [
    "Notice that using the \"constructor\" `make_withdraw` twice creates two different \"objects\"."
   ]
  },
  {
   "cell_type": "code",
   "execution_count": 12,
   "metadata": {
    "collapsed": false
   },
   "outputs": [
    {
     "name": "stdout",
     "output_type": "stream",
     "text": [
      "15\n",
      "95\n"
     ]
    }
   ],
   "source": [
    "wd=make_withdraw(20)\n",
    "print(wd(5))\n",
    "wd2=make_withdraw(100)\n",
    "print(wd2(5))"
   ]
  },
  {
   "cell_type": "code",
   "execution_count": 13,
   "metadata": {
    "collapsed": false
   },
   "outputs": [
    {
     "data": {
      "text/plain": [
       "(4364667080, 4364667216)"
      ]
     },
     "execution_count": 13,
     "metadata": {},
     "output_type": "execute_result"
    }
   ],
   "source": [
    "id(wd),id(wd2)"
   ]
  },
  {
   "cell_type": "markdown",
   "metadata": {},
   "source": [
    "Futhermore, notice that even though we cant access `balance` directly, we can change its value using the \"created\". So we now have a way to create state, as well as a way to change it. This is a very simple object system."
   ]
  },
  {
   "cell_type": "markdown",
   "metadata": {},
   "source": [
    "### Q5.\n",
    "\n",
    "Use the decorator `timer` which we developed in the lecture to time how long it takes a function to run. Use this timer to plot a graph of the amount of time it takes to fill multiple arrays of size 100, 1000, 10000, 100000, 1000000, 10000000 with integers upto and not including that number."
   ]
  },
  {
   "cell_type": "code",
   "execution_count": 14,
   "metadata": {
    "collapsed": true
   },
   "outputs": [],
   "source": [
    "#the decorator, slightly modified\n",
    "import time\n",
    "def time_returner(f):\n",
    "    def inner(*args):\n",
    "        t0 = time.time()\n",
    "        f(*args)\n",
    "        elapsed = time.time() - t0\n",
    "        return elapsed\n",
    "    return inner"
   ]
  },
  {
   "cell_type": "code",
   "execution_count": 15,
   "metadata": {
    "collapsed": true
   },
   "outputs": [],
   "source": [
    "#your code here\n",
    "import numpy as np\n",
    "@time_returner\n",
    "def f(n):\n",
    "    arr = np.arange(n)\n",
    "    return arr"
   ]
  },
  {
   "cell_type": "code",
   "execution_count": 16,
   "metadata": {
    "collapsed": false
   },
   "outputs": [],
   "source": [
    "%matplotlib notebook"
   ]
  },
  {
   "cell_type": "code",
   "execution_count": 19,
   "metadata": {
    "collapsed": false
   },
   "outputs": [
    {
     "name": "stdout",
     "output_type": "stream",
     "text": [
      "[1.7881393432617188e-05, 2.193450927734375e-05, 6.794929504394531e-05, 0.00012183189392089844, 0.0011179447174072266, 0.03341197967529297]\n"
     ]
    },
    {
     "data": {
      "application/javascript": [
       "/* Put everything inside the global mpl namespace */\n",
       "window.mpl = {};\n",
       "\n",
       "mpl.get_websocket_type = function() {\n",
       "    if (typeof(WebSocket) !== 'undefined') {\n",
       "        return WebSocket;\n",
       "    } else if (typeof(MozWebSocket) !== 'undefined') {\n",
       "        return MozWebSocket;\n",
       "    } else {\n",
       "        alert('Your browser does not have WebSocket support.' +\n",
       "              'Please try Chrome, Safari or Firefox ≥ 6. ' +\n",
       "              'Firefox 4 and 5 are also supported but you ' +\n",
       "              'have to enable WebSockets in about:config.');\n",
       "    };\n",
       "}\n",
       "\n",
       "mpl.figure = function(figure_id, websocket, ondownload, parent_element) {\n",
       "    this.id = figure_id;\n",
       "\n",
       "    this.ws = websocket;\n",
       "\n",
       "    this.supports_binary = (this.ws.binaryType != undefined);\n",
       "\n",
       "    if (!this.supports_binary) {\n",
       "        var warnings = document.getElementById(\"mpl-warnings\");\n",
       "        if (warnings) {\n",
       "            warnings.style.display = 'block';\n",
       "            warnings.textContent = (\n",
       "                \"This browser does not support binary websocket messages. \" +\n",
       "                    \"Performance may be slow.\");\n",
       "        }\n",
       "    }\n",
       "\n",
       "    this.imageObj = new Image();\n",
       "\n",
       "    this.context = undefined;\n",
       "    this.message = undefined;\n",
       "    this.canvas = undefined;\n",
       "    this.rubberband_canvas = undefined;\n",
       "    this.rubberband_context = undefined;\n",
       "    this.format_dropdown = undefined;\n",
       "\n",
       "    this.image_mode = 'full';\n",
       "\n",
       "    this.root = $('<div/>');\n",
       "    this._root_extra_style(this.root)\n",
       "    this.root.attr('style', 'display: inline-block');\n",
       "\n",
       "    $(parent_element).append(this.root);\n",
       "\n",
       "    this._init_header(this);\n",
       "    this._init_canvas(this);\n",
       "    this._init_toolbar(this);\n",
       "\n",
       "    var fig = this;\n",
       "\n",
       "    this.waiting = false;\n",
       "\n",
       "    this.ws.onopen =  function () {\n",
       "            fig.send_message(\"supports_binary\", {value: fig.supports_binary});\n",
       "            fig.send_message(\"send_image_mode\", {});\n",
       "            fig.send_message(\"refresh\", {});\n",
       "        }\n",
       "\n",
       "    this.imageObj.onload = function() {\n",
       "            if (fig.image_mode == 'full') {\n",
       "                // Full images could contain transparency (where diff images\n",
       "                // almost always do), so we need to clear the canvas so that\n",
       "                // there is no ghosting.\n",
       "                fig.context.clearRect(0, 0, fig.canvas.width, fig.canvas.height);\n",
       "            }\n",
       "            fig.context.drawImage(fig.imageObj, 0, 0);\n",
       "        };\n",
       "\n",
       "    this.imageObj.onunload = function() {\n",
       "        this.ws.close();\n",
       "    }\n",
       "\n",
       "    this.ws.onmessage = this._make_on_message_function(this);\n",
       "\n",
       "    this.ondownload = ondownload;\n",
       "}\n",
       "\n",
       "mpl.figure.prototype._init_header = function() {\n",
       "    var titlebar = $(\n",
       "        '<div class=\"ui-dialog-titlebar ui-widget-header ui-corner-all ' +\n",
       "        'ui-helper-clearfix\"/>');\n",
       "    var titletext = $(\n",
       "        '<div class=\"ui-dialog-title\" style=\"width: 100%; ' +\n",
       "        'text-align: center; padding: 3px;\"/>');\n",
       "    titlebar.append(titletext)\n",
       "    this.root.append(titlebar);\n",
       "    this.header = titletext[0];\n",
       "}\n",
       "\n",
       "\n",
       "\n",
       "mpl.figure.prototype._canvas_extra_style = function(canvas_div) {\n",
       "\n",
       "}\n",
       "\n",
       "\n",
       "mpl.figure.prototype._root_extra_style = function(canvas_div) {\n",
       "\n",
       "}\n",
       "\n",
       "mpl.figure.prototype._init_canvas = function() {\n",
       "    var fig = this;\n",
       "\n",
       "    var canvas_div = $('<div/>');\n",
       "\n",
       "    canvas_div.attr('style', 'position: relative; clear: both; outline: 0');\n",
       "\n",
       "    function canvas_keyboard_event(event) {\n",
       "        return fig.key_event(event, event['data']);\n",
       "    }\n",
       "\n",
       "    canvas_div.keydown('key_press', canvas_keyboard_event);\n",
       "    canvas_div.keyup('key_release', canvas_keyboard_event);\n",
       "    this.canvas_div = canvas_div\n",
       "    this._canvas_extra_style(canvas_div)\n",
       "    this.root.append(canvas_div);\n",
       "\n",
       "    var canvas = $('<canvas/>');\n",
       "    canvas.addClass('mpl-canvas');\n",
       "    canvas.attr('style', \"left: 0; top: 0; z-index: 0; outline: 0\")\n",
       "\n",
       "    this.canvas = canvas[0];\n",
       "    this.context = canvas[0].getContext(\"2d\");\n",
       "\n",
       "    var rubberband = $('<canvas/>');\n",
       "    rubberband.attr('style', \"position: absolute; left: 0; top: 0; z-index: 1;\")\n",
       "\n",
       "    var pass_mouse_events = true;\n",
       "\n",
       "    canvas_div.resizable({\n",
       "        start: function(event, ui) {\n",
       "            pass_mouse_events = false;\n",
       "        },\n",
       "        resize: function(event, ui) {\n",
       "            fig.request_resize(ui.size.width, ui.size.height);\n",
       "        },\n",
       "        stop: function(event, ui) {\n",
       "            pass_mouse_events = true;\n",
       "            fig.request_resize(ui.size.width, ui.size.height);\n",
       "        },\n",
       "    });\n",
       "\n",
       "    function mouse_event_fn(event) {\n",
       "        if (pass_mouse_events)\n",
       "            return fig.mouse_event(event, event['data']);\n",
       "    }\n",
       "\n",
       "    rubberband.mousedown('button_press', mouse_event_fn);\n",
       "    rubberband.mouseup('button_release', mouse_event_fn);\n",
       "    // Throttle sequential mouse events to 1 every 20ms.\n",
       "    rubberband.mousemove('motion_notify', mouse_event_fn);\n",
       "\n",
       "    rubberband.mouseenter('figure_enter', mouse_event_fn);\n",
       "    rubberband.mouseleave('figure_leave', mouse_event_fn);\n",
       "\n",
       "    canvas_div.on(\"wheel\", function (event) {\n",
       "        event = event.originalEvent;\n",
       "        event['data'] = 'scroll'\n",
       "        if (event.deltaY < 0) {\n",
       "            event.step = 1;\n",
       "        } else {\n",
       "            event.step = -1;\n",
       "        }\n",
       "        mouse_event_fn(event);\n",
       "    });\n",
       "\n",
       "    canvas_div.append(canvas);\n",
       "    canvas_div.append(rubberband);\n",
       "\n",
       "    this.rubberband = rubberband;\n",
       "    this.rubberband_canvas = rubberband[0];\n",
       "    this.rubberband_context = rubberband[0].getContext(\"2d\");\n",
       "    this.rubberband_context.strokeStyle = \"#000000\";\n",
       "\n",
       "    this._resize_canvas = function(width, height) {\n",
       "        // Keep the size of the canvas, canvas container, and rubber band\n",
       "        // canvas in synch.\n",
       "        canvas_div.css('width', width)\n",
       "        canvas_div.css('height', height)\n",
       "\n",
       "        canvas.attr('width', width);\n",
       "        canvas.attr('height', height);\n",
       "\n",
       "        rubberband.attr('width', width);\n",
       "        rubberband.attr('height', height);\n",
       "    }\n",
       "\n",
       "    // Set the figure to an initial 600x600px, this will subsequently be updated\n",
       "    // upon first draw.\n",
       "    this._resize_canvas(600, 600);\n",
       "\n",
       "    // Disable right mouse context menu.\n",
       "    $(this.rubberband_canvas).bind(\"contextmenu\",function(e){\n",
       "        return false;\n",
       "    });\n",
       "\n",
       "    function set_focus () {\n",
       "        canvas.focus();\n",
       "        canvas_div.focus();\n",
       "    }\n",
       "\n",
       "    window.setTimeout(set_focus, 100);\n",
       "}\n",
       "\n",
       "mpl.figure.prototype._init_toolbar = function() {\n",
       "    var fig = this;\n",
       "\n",
       "    var nav_element = $('<div/>')\n",
       "    nav_element.attr('style', 'width: 100%');\n",
       "    this.root.append(nav_element);\n",
       "\n",
       "    // Define a callback function for later on.\n",
       "    function toolbar_event(event) {\n",
       "        return fig.toolbar_button_onclick(event['data']);\n",
       "    }\n",
       "    function toolbar_mouse_event(event) {\n",
       "        return fig.toolbar_button_onmouseover(event['data']);\n",
       "    }\n",
       "\n",
       "    for(var toolbar_ind in mpl.toolbar_items) {\n",
       "        var name = mpl.toolbar_items[toolbar_ind][0];\n",
       "        var tooltip = mpl.toolbar_items[toolbar_ind][1];\n",
       "        var image = mpl.toolbar_items[toolbar_ind][2];\n",
       "        var method_name = mpl.toolbar_items[toolbar_ind][3];\n",
       "\n",
       "        if (!name) {\n",
       "            // put a spacer in here.\n",
       "            continue;\n",
       "        }\n",
       "        var button = $('<button/>');\n",
       "        button.addClass('ui-button ui-widget ui-state-default ui-corner-all ' +\n",
       "                        'ui-button-icon-only');\n",
       "        button.attr('role', 'button');\n",
       "        button.attr('aria-disabled', 'false');\n",
       "        button.click(method_name, toolbar_event);\n",
       "        button.mouseover(tooltip, toolbar_mouse_event);\n",
       "\n",
       "        var icon_img = $('<span/>');\n",
       "        icon_img.addClass('ui-button-icon-primary ui-icon');\n",
       "        icon_img.addClass(image);\n",
       "        icon_img.addClass('ui-corner-all');\n",
       "\n",
       "        var tooltip_span = $('<span/>');\n",
       "        tooltip_span.addClass('ui-button-text');\n",
       "        tooltip_span.html(tooltip);\n",
       "\n",
       "        button.append(icon_img);\n",
       "        button.append(tooltip_span);\n",
       "\n",
       "        nav_element.append(button);\n",
       "    }\n",
       "\n",
       "    var fmt_picker_span = $('<span/>');\n",
       "\n",
       "    var fmt_picker = $('<select/>');\n",
       "    fmt_picker.addClass('mpl-toolbar-option ui-widget ui-widget-content');\n",
       "    fmt_picker_span.append(fmt_picker);\n",
       "    nav_element.append(fmt_picker_span);\n",
       "    this.format_dropdown = fmt_picker[0];\n",
       "\n",
       "    for (var ind in mpl.extensions) {\n",
       "        var fmt = mpl.extensions[ind];\n",
       "        var option = $(\n",
       "            '<option/>', {selected: fmt === mpl.default_extension}).html(fmt);\n",
       "        fmt_picker.append(option)\n",
       "    }\n",
       "\n",
       "    // Add hover states to the ui-buttons\n",
       "    $( \".ui-button\" ).hover(\n",
       "        function() { $(this).addClass(\"ui-state-hover\");},\n",
       "        function() { $(this).removeClass(\"ui-state-hover\");}\n",
       "    );\n",
       "\n",
       "    var status_bar = $('<span class=\"mpl-message\"/>');\n",
       "    nav_element.append(status_bar);\n",
       "    this.message = status_bar[0];\n",
       "}\n",
       "\n",
       "mpl.figure.prototype.request_resize = function(x_pixels, y_pixels) {\n",
       "    // Request matplotlib to resize the figure. Matplotlib will then trigger a resize in the client,\n",
       "    // which will in turn request a refresh of the image.\n",
       "    this.send_message('resize', {'width': x_pixels, 'height': y_pixels});\n",
       "}\n",
       "\n",
       "mpl.figure.prototype.send_message = function(type, properties) {\n",
       "    properties['type'] = type;\n",
       "    properties['figure_id'] = this.id;\n",
       "    this.ws.send(JSON.stringify(properties));\n",
       "}\n",
       "\n",
       "mpl.figure.prototype.send_draw_message = function() {\n",
       "    if (!this.waiting) {\n",
       "        this.waiting = true;\n",
       "        this.ws.send(JSON.stringify({type: \"draw\", figure_id: this.id}));\n",
       "    }\n",
       "}\n",
       "\n",
       "\n",
       "mpl.figure.prototype.handle_save = function(fig, msg) {\n",
       "    var format_dropdown = fig.format_dropdown;\n",
       "    var format = format_dropdown.options[format_dropdown.selectedIndex].value;\n",
       "    fig.ondownload(fig, format);\n",
       "}\n",
       "\n",
       "\n",
       "mpl.figure.prototype.handle_resize = function(fig, msg) {\n",
       "    var size = msg['size'];\n",
       "    if (size[0] != fig.canvas.width || size[1] != fig.canvas.height) {\n",
       "        fig._resize_canvas(size[0], size[1]);\n",
       "        fig.send_message(\"refresh\", {});\n",
       "    };\n",
       "}\n",
       "\n",
       "mpl.figure.prototype.handle_rubberband = function(fig, msg) {\n",
       "    var x0 = msg['x0'];\n",
       "    var y0 = fig.canvas.height - msg['y0'];\n",
       "    var x1 = msg['x1'];\n",
       "    var y1 = fig.canvas.height - msg['y1'];\n",
       "    x0 = Math.floor(x0) + 0.5;\n",
       "    y0 = Math.floor(y0) + 0.5;\n",
       "    x1 = Math.floor(x1) + 0.5;\n",
       "    y1 = Math.floor(y1) + 0.5;\n",
       "    var min_x = Math.min(x0, x1);\n",
       "    var min_y = Math.min(y0, y1);\n",
       "    var width = Math.abs(x1 - x0);\n",
       "    var height = Math.abs(y1 - y0);\n",
       "\n",
       "    fig.rubberband_context.clearRect(\n",
       "        0, 0, fig.canvas.width, fig.canvas.height);\n",
       "\n",
       "    fig.rubberband_context.strokeRect(min_x, min_y, width, height);\n",
       "}\n",
       "\n",
       "mpl.figure.prototype.handle_figure_label = function(fig, msg) {\n",
       "    // Updates the figure title.\n",
       "    fig.header.textContent = msg['label'];\n",
       "}\n",
       "\n",
       "mpl.figure.prototype.handle_cursor = function(fig, msg) {\n",
       "    var cursor = msg['cursor'];\n",
       "    switch(cursor)\n",
       "    {\n",
       "    case 0:\n",
       "        cursor = 'pointer';\n",
       "        break;\n",
       "    case 1:\n",
       "        cursor = 'default';\n",
       "        break;\n",
       "    case 2:\n",
       "        cursor = 'crosshair';\n",
       "        break;\n",
       "    case 3:\n",
       "        cursor = 'move';\n",
       "        break;\n",
       "    }\n",
       "    fig.rubberband_canvas.style.cursor = cursor;\n",
       "}\n",
       "\n",
       "mpl.figure.prototype.handle_message = function(fig, msg) {\n",
       "    fig.message.textContent = msg['message'];\n",
       "}\n",
       "\n",
       "mpl.figure.prototype.handle_draw = function(fig, msg) {\n",
       "    // Request the server to send over a new figure.\n",
       "    fig.send_draw_message();\n",
       "}\n",
       "\n",
       "mpl.figure.prototype.handle_image_mode = function(fig, msg) {\n",
       "    fig.image_mode = msg['mode'];\n",
       "}\n",
       "\n",
       "mpl.figure.prototype.updated_canvas_event = function() {\n",
       "    // Called whenever the canvas gets updated.\n",
       "    this.send_message(\"ack\", {});\n",
       "}\n",
       "\n",
       "// A function to construct a web socket function for onmessage handling.\n",
       "// Called in the figure constructor.\n",
       "mpl.figure.prototype._make_on_message_function = function(fig) {\n",
       "    return function socket_on_message(evt) {\n",
       "        if (evt.data instanceof Blob) {\n",
       "            /* FIXME: We get \"Resource interpreted as Image but\n",
       "             * transferred with MIME type text/plain:\" errors on\n",
       "             * Chrome.  But how to set the MIME type?  It doesn't seem\n",
       "             * to be part of the websocket stream */\n",
       "            evt.data.type = \"image/png\";\n",
       "\n",
       "            /* Free the memory for the previous frames */\n",
       "            if (fig.imageObj.src) {\n",
       "                (window.URL || window.webkitURL).revokeObjectURL(\n",
       "                    fig.imageObj.src);\n",
       "            }\n",
       "\n",
       "            fig.imageObj.src = (window.URL || window.webkitURL).createObjectURL(\n",
       "                evt.data);\n",
       "            fig.updated_canvas_event();\n",
       "            fig.waiting = false;\n",
       "            return;\n",
       "        }\n",
       "        else if (typeof evt.data === 'string' && evt.data.slice(0, 21) == \"data:image/png;base64\") {\n",
       "            fig.imageObj.src = evt.data;\n",
       "            fig.updated_canvas_event();\n",
       "            fig.waiting = false;\n",
       "            return;\n",
       "        }\n",
       "\n",
       "        var msg = JSON.parse(evt.data);\n",
       "        var msg_type = msg['type'];\n",
       "\n",
       "        // Call the  \"handle_{type}\" callback, which takes\n",
       "        // the figure and JSON message as its only arguments.\n",
       "        try {\n",
       "            var callback = fig[\"handle_\" + msg_type];\n",
       "        } catch (e) {\n",
       "            console.log(\"No handler for the '\" + msg_type + \"' message type: \", msg);\n",
       "            return;\n",
       "        }\n",
       "\n",
       "        if (callback) {\n",
       "            try {\n",
       "                // console.log(\"Handling '\" + msg_type + \"' message: \", msg);\n",
       "                callback(fig, msg);\n",
       "            } catch (e) {\n",
       "                console.log(\"Exception inside the 'handler_\" + msg_type + \"' callback:\", e, e.stack, msg);\n",
       "            }\n",
       "        }\n",
       "    };\n",
       "}\n",
       "\n",
       "// from http://stackoverflow.com/questions/1114465/getting-mouse-location-in-canvas\n",
       "mpl.findpos = function(e) {\n",
       "    //this section is from http://www.quirksmode.org/js/events_properties.html\n",
       "    var targ;\n",
       "    if (!e)\n",
       "        e = window.event;\n",
       "    if (e.target)\n",
       "        targ = e.target;\n",
       "    else if (e.srcElement)\n",
       "        targ = e.srcElement;\n",
       "    if (targ.nodeType == 3) // defeat Safari bug\n",
       "        targ = targ.parentNode;\n",
       "\n",
       "    // jQuery normalizes the pageX and pageY\n",
       "    // pageX,Y are the mouse positions relative to the document\n",
       "    // offset() returns the position of the element relative to the document\n",
       "    var x = e.pageX - $(targ).offset().left;\n",
       "    var y = e.pageY - $(targ).offset().top;\n",
       "\n",
       "    return {\"x\": x, \"y\": y};\n",
       "};\n",
       "\n",
       "/*\n",
       " * return a copy of an object with only non-object keys\n",
       " * we need this to avoid circular references\n",
       " * http://stackoverflow.com/a/24161582/3208463\n",
       " */\n",
       "function simpleKeys (original) {\n",
       "  return Object.keys(original).reduce(function (obj, key) {\n",
       "    if (typeof original[key] !== 'object')\n",
       "        obj[key] = original[key]\n",
       "    return obj;\n",
       "  }, {});\n",
       "}\n",
       "\n",
       "mpl.figure.prototype.mouse_event = function(event, name) {\n",
       "    var canvas_pos = mpl.findpos(event)\n",
       "\n",
       "    if (name === 'button_press')\n",
       "    {\n",
       "        this.canvas.focus();\n",
       "        this.canvas_div.focus();\n",
       "    }\n",
       "\n",
       "    var x = canvas_pos.x;\n",
       "    var y = canvas_pos.y;\n",
       "\n",
       "    this.send_message(name, {x: x, y: y, button: event.button,\n",
       "                             step: event.step,\n",
       "                             guiEvent: simpleKeys(event)});\n",
       "\n",
       "    /* This prevents the web browser from automatically changing to\n",
       "     * the text insertion cursor when the button is pressed.  We want\n",
       "     * to control all of the cursor setting manually through the\n",
       "     * 'cursor' event from matplotlib */\n",
       "    event.preventDefault();\n",
       "    return false;\n",
       "}\n",
       "\n",
       "mpl.figure.prototype._key_event_extra = function(event, name) {\n",
       "    // Handle any extra behaviour associated with a key event\n",
       "}\n",
       "\n",
       "mpl.figure.prototype.key_event = function(event, name) {\n",
       "\n",
       "    // Prevent repeat events\n",
       "    if (name == 'key_press')\n",
       "    {\n",
       "        if (event.which === this._key)\n",
       "            return;\n",
       "        else\n",
       "            this._key = event.which;\n",
       "    }\n",
       "    if (name == 'key_release')\n",
       "        this._key = null;\n",
       "\n",
       "    var value = '';\n",
       "    if (event.ctrlKey && event.which != 17)\n",
       "        value += \"ctrl+\";\n",
       "    if (event.altKey && event.which != 18)\n",
       "        value += \"alt+\";\n",
       "    if (event.shiftKey && event.which != 16)\n",
       "        value += \"shift+\";\n",
       "\n",
       "    value += 'k';\n",
       "    value += event.which.toString();\n",
       "\n",
       "    this._key_event_extra(event, name);\n",
       "\n",
       "    this.send_message(name, {key: value,\n",
       "                             guiEvent: simpleKeys(event)});\n",
       "    return false;\n",
       "}\n",
       "\n",
       "mpl.figure.prototype.toolbar_button_onclick = function(name) {\n",
       "    if (name == 'download') {\n",
       "        this.handle_save(this, null);\n",
       "    } else {\n",
       "        this.send_message(\"toolbar_button\", {name: name});\n",
       "    }\n",
       "};\n",
       "\n",
       "mpl.figure.prototype.toolbar_button_onmouseover = function(tooltip) {\n",
       "    this.message.textContent = tooltip;\n",
       "};\n",
       "mpl.toolbar_items = [[\"Home\", \"Reset original view\", \"fa fa-home icon-home\", \"home\"], [\"Back\", \"Back to  previous view\", \"fa fa-arrow-left icon-arrow-left\", \"back\"], [\"Forward\", \"Forward to next view\", \"fa fa-arrow-right icon-arrow-right\", \"forward\"], [\"\", \"\", \"\", \"\"], [\"Pan\", \"Pan axes with left mouse, zoom with right\", \"fa fa-arrows icon-move\", \"pan\"], [\"Zoom\", \"Zoom to rectangle\", \"fa fa-square-o icon-check-empty\", \"zoom\"], [\"\", \"\", \"\", \"\"], [\"Download\", \"Download plot\", \"fa fa-floppy-o icon-save\", \"download\"]];\n",
       "\n",
       "mpl.extensions = [\"eps\", \"pdf\", \"png\", \"ps\", \"raw\", \"svg\"];\n",
       "\n",
       "mpl.default_extension = \"png\";var comm_websocket_adapter = function(comm) {\n",
       "    // Create a \"websocket\"-like object which calls the given IPython comm\n",
       "    // object with the appropriate methods. Currently this is a non binary\n",
       "    // socket, so there is still some room for performance tuning.\n",
       "    var ws = {};\n",
       "\n",
       "    ws.close = function() {\n",
       "        comm.close()\n",
       "    };\n",
       "    ws.send = function(m) {\n",
       "        //console.log('sending', m);\n",
       "        comm.send(m);\n",
       "    };\n",
       "    // Register the callback with on_msg.\n",
       "    comm.on_msg(function(msg) {\n",
       "        //console.log('receiving', msg['content']['data'], msg);\n",
       "        // Pass the mpl event to the overriden (by mpl) onmessage function.\n",
       "        ws.onmessage(msg['content']['data'])\n",
       "    });\n",
       "    return ws;\n",
       "}\n",
       "\n",
       "mpl.mpl_figure_comm = function(comm, msg) {\n",
       "    // This is the function which gets called when the mpl process\n",
       "    // starts-up an IPython Comm through the \"matplotlib\" channel.\n",
       "\n",
       "    var id = msg.content.data.id;\n",
       "    // Get hold of the div created by the display call when the Comm\n",
       "    // socket was opened in Python.\n",
       "    var element = $(\"#\" + id);\n",
       "    var ws_proxy = comm_websocket_adapter(comm)\n",
       "\n",
       "    function ondownload(figure, format) {\n",
       "        window.open(figure.imageObj.src);\n",
       "    }\n",
       "\n",
       "    var fig = new mpl.figure(id, ws_proxy,\n",
       "                           ondownload,\n",
       "                           element.get(0));\n",
       "\n",
       "    // Call onopen now - mpl needs it, as it is assuming we've passed it a real\n",
       "    // web socket which is closed, not our websocket->open comm proxy.\n",
       "    ws_proxy.onopen();\n",
       "\n",
       "    fig.parent_element = element.get(0);\n",
       "    fig.cell_info = mpl.find_output_cell(\"<div id='\" + id + \"'></div>\");\n",
       "    if (!fig.cell_info) {\n",
       "        console.error(\"Failed to find cell for figure\", id, fig);\n",
       "        return;\n",
       "    }\n",
       "\n",
       "    var output_index = fig.cell_info[2]\n",
       "    var cell = fig.cell_info[0];\n",
       "\n",
       "};\n",
       "\n",
       "mpl.figure.prototype.handle_close = function(fig, msg) {\n",
       "    fig.root.unbind('remove')\n",
       "\n",
       "    // Update the output cell to use the data from the current canvas.\n",
       "    fig.push_to_output();\n",
       "    var dataURL = fig.canvas.toDataURL();\n",
       "    // Re-enable the keyboard manager in IPython - without this line, in FF,\n",
       "    // the notebook keyboard shortcuts fail.\n",
       "    IPython.keyboard_manager.enable()\n",
       "    $(fig.parent_element).html('<img src=\"' + dataURL + '\">');\n",
       "    fig.close_ws(fig, msg);\n",
       "}\n",
       "\n",
       "mpl.figure.prototype.close_ws = function(fig, msg){\n",
       "    fig.send_message('closing', msg);\n",
       "    // fig.ws.close()\n",
       "}\n",
       "\n",
       "mpl.figure.prototype.push_to_output = function(remove_interactive) {\n",
       "    // Turn the data on the canvas into data in the output cell.\n",
       "    var dataURL = this.canvas.toDataURL();\n",
       "    this.cell_info[1]['text/html'] = '<img src=\"' + dataURL + '\">';\n",
       "}\n",
       "\n",
       "mpl.figure.prototype.updated_canvas_event = function() {\n",
       "    // Tell IPython that the notebook contents must change.\n",
       "    IPython.notebook.set_dirty(true);\n",
       "    this.send_message(\"ack\", {});\n",
       "    var fig = this;\n",
       "    // Wait a second, then push the new image to the DOM so\n",
       "    // that it is saved nicely (might be nice to debounce this).\n",
       "    setTimeout(function () { fig.push_to_output() }, 1000);\n",
       "}\n",
       "\n",
       "mpl.figure.prototype._init_toolbar = function() {\n",
       "    var fig = this;\n",
       "\n",
       "    var nav_element = $('<div/>')\n",
       "    nav_element.attr('style', 'width: 100%');\n",
       "    this.root.append(nav_element);\n",
       "\n",
       "    // Define a callback function for later on.\n",
       "    function toolbar_event(event) {\n",
       "        return fig.toolbar_button_onclick(event['data']);\n",
       "    }\n",
       "    function toolbar_mouse_event(event) {\n",
       "        return fig.toolbar_button_onmouseover(event['data']);\n",
       "    }\n",
       "\n",
       "    for(var toolbar_ind in mpl.toolbar_items){\n",
       "        var name = mpl.toolbar_items[toolbar_ind][0];\n",
       "        var tooltip = mpl.toolbar_items[toolbar_ind][1];\n",
       "        var image = mpl.toolbar_items[toolbar_ind][2];\n",
       "        var method_name = mpl.toolbar_items[toolbar_ind][3];\n",
       "\n",
       "        if (!name) { continue; };\n",
       "\n",
       "        var button = $('<button class=\"btn btn-default\" href=\"#\" title=\"' + name + '\"><i class=\"fa ' + image + ' fa-lg\"></i></button>');\n",
       "        button.click(method_name, toolbar_event);\n",
       "        button.mouseover(tooltip, toolbar_mouse_event);\n",
       "        nav_element.append(button);\n",
       "    }\n",
       "\n",
       "    // Add the status bar.\n",
       "    var status_bar = $('<span class=\"mpl-message\" style=\"text-align:right; float: right;\"/>');\n",
       "    nav_element.append(status_bar);\n",
       "    this.message = status_bar[0];\n",
       "\n",
       "    // Add the close button to the window.\n",
       "    var buttongrp = $('<div class=\"btn-group inline pull-right\"></div>');\n",
       "    var button = $('<button class=\"btn btn-mini btn-primary\" href=\"#\" title=\"Stop Interaction\"><i class=\"fa fa-power-off icon-remove icon-large\"></i></button>');\n",
       "    button.click(function (evt) { fig.handle_close(fig, {}); } );\n",
       "    button.mouseover('Stop Interaction', toolbar_mouse_event);\n",
       "    buttongrp.append(button);\n",
       "    var titlebar = this.root.find($('.ui-dialog-titlebar'));\n",
       "    titlebar.prepend(buttongrp);\n",
       "}\n",
       "\n",
       "mpl.figure.prototype._root_extra_style = function(el){\n",
       "    var fig = this\n",
       "    el.on(\"remove\", function(){\n",
       "\tfig.close_ws(fig, {});\n",
       "    });\n",
       "}\n",
       "\n",
       "mpl.figure.prototype._canvas_extra_style = function(el){\n",
       "    // this is important to make the div 'focusable\n",
       "    el.attr('tabindex', 0)\n",
       "    // reach out to IPython and tell the keyboard manager to turn it's self\n",
       "    // off when our div gets focus\n",
       "\n",
       "    // location in version 3\n",
       "    if (IPython.notebook.keyboard_manager) {\n",
       "        IPython.notebook.keyboard_manager.register_events(el);\n",
       "    }\n",
       "    else {\n",
       "        // location in version 2\n",
       "        IPython.keyboard_manager.register_events(el);\n",
       "    }\n",
       "\n",
       "}\n",
       "\n",
       "mpl.figure.prototype._key_event_extra = function(event, name) {\n",
       "    var manager = IPython.notebook.keyboard_manager;\n",
       "    if (!manager)\n",
       "        manager = IPython.keyboard_manager;\n",
       "\n",
       "    // Check for shift+enter\n",
       "    if (event.shiftKey && event.which == 13) {\n",
       "        this.canvas_div.blur();\n",
       "        event.shiftKey = false;\n",
       "        // Send a \"J\" for go to next cell\n",
       "        event.which = 74;\n",
       "        event.keyCode = 74;\n",
       "        manager.command_mode();\n",
       "        manager.handle_keydown(event);\n",
       "    }\n",
       "}\n",
       "\n",
       "mpl.figure.prototype.handle_save = function(fig, msg) {\n",
       "    fig.ondownload(fig, null);\n",
       "}\n",
       "\n",
       "\n",
       "mpl.find_output_cell = function(html_output) {\n",
       "    // Return the cell and output element which can be found *uniquely* in the notebook.\n",
       "    // Note - this is a bit hacky, but it is done because the \"notebook_saving.Notebook\"\n",
       "    // IPython event is triggered only after the cells have been serialised, which for\n",
       "    // our purposes (turning an active figure into a static one), is too late.\n",
       "    var cells = IPython.notebook.get_cells();\n",
       "    var ncells = cells.length;\n",
       "    for (var i=0; i<ncells; i++) {\n",
       "        var cell = cells[i];\n",
       "        if (cell.cell_type === 'code'){\n",
       "            for (var j=0; j<cell.output_area.outputs.length; j++) {\n",
       "                var data = cell.output_area.outputs[j];\n",
       "                if (data.data) {\n",
       "                    // IPython >= 3 moved mimebundle to data attribute of output\n",
       "                    data = data.data;\n",
       "                }\n",
       "                if (data['text/html'] == html_output) {\n",
       "                    return [cell, data, j];\n",
       "                }\n",
       "            }\n",
       "        }\n",
       "    }\n",
       "}\n",
       "\n",
       "// Register the function which deals with the matplotlib target/channel.\n",
       "// The kernel may be null if the page has been refreshed.\n",
       "if (IPython.notebook.kernel != null) {\n",
       "    IPython.notebook.kernel.comm_manager.register_target('matplotlib', mpl.mpl_figure_comm);\n",
       "}\n"
      ],
      "text/plain": [
       "<IPython.core.display.Javascript object>"
      ]
     },
     "metadata": {},
     "output_type": "display_data"
    },
    {
     "data": {
      "text/html": [
       "<img src=\"data:image/png;base64,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\">"
      ],
      "text/plain": [
       "<IPython.core.display.HTML object>"
      ]
     },
     "metadata": {},
     "output_type": "display_data"
    }
   ],
   "source": [
    "#your code here\n",
    "import pylab as plt\n",
    "time_taken = []\n",
    "for iterations in [100, 1000, 10000, 100000, 1000000, 10000000]:\n",
    "    time_taken.append(f(iterations))\n",
    "\n",
    "print(time_taken)\n",
    "plt.plot([2,3,4,5,6,7], time_taken) # plotting with x-axis on a log (base 10) scale\n",
    "plt.show()\n"
   ]
  },
  {
   "cell_type": "markdown",
   "metadata": {},
   "source": [
    "### Q6.\n",
    "\n",
    "A decorator can have arguments.\n",
    "\n",
    "If you want to create a decorator with arguments, such as for example, a state that is global such as a counter, what you need to do is to capture the state variable as a closure inside the decorating function.\n",
    "\n",
    "Here is the skeleton for that:\n",
    "\n",
    "```python\n",
    "def call_to_create_a_decorator(state_arguments):\n",
    "    def this_is_the_decorator_function(user_function):\n",
    "        def inner_function(*args):\n",
    "            #wrapping stuff here\n",
    "            output = user_function(*args)\n",
    "            #pehaps more wrapping here\n",
    "            return output # or something else\n",
    "        return inner_function\n",
    "    return this_is_the_decorator_function\n",
    "```"
   ]
  },
  {
   "cell_type": "code",
   "execution_count": 44,
   "metadata": {
    "collapsed": true
   },
   "outputs": [],
   "source": [
    "def call_counter(count_dictionary):\n",
    "    def call_counter_decorator(func):\n",
    "        def inner(*args, **kwargs):\n",
    "            n = func.__name__\n",
    "            #your code here\n",
    "            if n in count_dictionary.keys():\n",
    "                count_dictionary[n] += 1\n",
    "            else:\n",
    "                count_dictionary[n] = 1\n",
    "            output = func(*args, **kwargs)\n",
    "            return output\n",
    "        return inner\n",
    "    return call_counter_decorator"
   ]
  },
  {
   "cell_type": "code",
   "execution_count": 45,
   "metadata": {
    "collapsed": false
   },
   "outputs": [],
   "source": [
    "storage={}"
   ]
  },
  {
   "cell_type": "code",
   "execution_count": 46,
   "metadata": {
    "collapsed": true
   },
   "outputs": [],
   "source": [
    "@call_counter(storage)\n",
    "def fib_recursive(n):\n",
    "    if n == 1:\n",
    "        return 0\n",
    "    if n == 2:\n",
    "        return 1\n",
    "    return fib_recursive(n-2) + fib_recursive(n-1)"
   ]
  },
  {
   "cell_type": "code",
   "execution_count": 47,
   "metadata": {
    "collapsed": true
   },
   "outputs": [],
   "source": [
    "@call_counter(storage)\n",
    "def fact(n):\n",
    "    if n<=1:\n",
    "        return 1\n",
    "    else:\n",
    "        return n*fact(n-1)"
   ]
  },
  {
   "cell_type": "markdown",
   "metadata": {},
   "source": [
    "Run the following code:\n",
    "\n",
    "```python\n",
    "for i in [7, 13, 29]:\n",
    "    fib_recursive(i)\n",
    "    fact(i)\n",
    "    print(i, storage['fib_recursive'], storage['fact'])\n",
    "```"
   ]
  },
  {
   "cell_type": "code",
   "execution_count": 48,
   "metadata": {
    "collapsed": false
   },
   "outputs": [
    {
     "name": "stdout",
     "output_type": "stream",
     "text": [
      "7 25 7\n",
      "13 490 20\n",
      "29 1028947 49\n"
     ]
    }
   ],
   "source": [
    "# your code here\n",
    "for i in [7, 13, 29]:\n",
    "    fib_recursive(i)\n",
    "    fact(i)\n",
    "    print(i, storage['fib_recursive'], storage['fact'])\n"
   ]
  },
  {
   "cell_type": "markdown",
   "metadata": {},
   "source": [
    "Enter the last two numbers (as below) in the google form http://goo.gl/forms/Fyv2PLiJdw."
   ]
  },
  {
   "cell_type": "code",
   "execution_count": 36,
   "metadata": {
    "collapsed": false
   },
   "outputs": [
    {
     "name": "stdout",
     "output_type": "stream",
     "text": [
      "1028947 49\n"
     ]
    }
   ],
   "source": [
    "print(storage['fib_recursive'], storage['fact'])"
   ]
  }
 ],
 "metadata": {
  "kernelspec": {
   "display_name": "Python 3",
   "language": "python",
   "name": "python3"
  },
  "language_info": {
   "codemirror_mode": {
    "name": "ipython",
    "version": 3
   },
   "file_extension": ".py",
   "mimetype": "text/x-python",
   "name": "python",
   "nbconvert_exporter": "python",
   "pygments_lexer": "ipython3",
   "version": "3.5.1"
  }
 },
 "nbformat": 4,
 "nbformat_minor": 0
}
